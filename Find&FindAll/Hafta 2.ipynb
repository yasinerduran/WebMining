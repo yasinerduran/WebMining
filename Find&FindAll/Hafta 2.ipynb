{
 "cells": [
  {
   "cell_type": "code",
   "execution_count": 1,
   "outputs": [],
   "source": [
    "from urllib.request import urlopen\n",
    "from bs4 import BeautifulSoup"
   ],
   "metadata": {
    "collapsed": false
   }
  },
  {
   "cell_type": "code",
   "execution_count": 8,
   "outputs": [
    {
     "name": "stdout",
     "output_type": "stream",
     "text": [
      "<span class=\"green\">Anna\n",
      "Pavlovna Scherer</span>\n",
      "<span class=\"green\">Empress Marya\n",
      "Fedorovna</span>\n",
      "<span class=\"green\">Prince Vasili Kuragin</span>\n",
      "<span class=\"green\">Anna Pavlovna</span>\n",
      "<span class=\"green\">St. Petersburg</span>\n",
      "<span class=\"green\">the prince</span>\n",
      "<span class=\"green\">Anna Pavlovna</span>\n",
      "<span class=\"green\">Anna Pavlovna</span>\n",
      "<span class=\"green\">the prince</span>\n",
      "<span class=\"green\">the prince</span>\n",
      "<span class=\"green\">the prince</span>\n",
      "<span class=\"green\">Prince Vasili</span>\n",
      "<span class=\"green\">Anna Pavlovna</span>\n",
      "<span class=\"green\">Anna Pavlovna</span>\n",
      "<span class=\"green\">the prince</span>\n",
      "<span class=\"green\">Wintzingerode</span>\n",
      "<span class=\"green\">King of Prussia</span>\n",
      "<span class=\"green\">le Vicomte de Mortemart</span>\n",
      "<span class=\"green\">Montmorencys</span>\n",
      "<span class=\"green\">Rohans</span>\n",
      "<span class=\"green\">Abbe Morio</span>\n",
      "<span class=\"green\">the Emperor</span>\n",
      "<span class=\"green\">the prince</span>\n",
      "<span class=\"green\">Prince Vasili</span>\n",
      "<span class=\"green\">Dowager Empress Marya Fedorovna</span>\n",
      "<span class=\"green\">the baron</span>\n",
      "<span class=\"green\">Anna Pavlovna</span>\n",
      "<span class=\"green\">the Empress</span>\n",
      "<span class=\"green\">the Empress</span>\n",
      "<span class=\"green\">Anna Pavlovna's</span>\n",
      "<span class=\"green\">Her Majesty</span>\n",
      "<span class=\"green\">Baron\n",
      "Funke</span>\n",
      "<span class=\"green\">The prince</span>\n",
      "<span class=\"green\">Anna\n",
      "Pavlovna</span>\n",
      "<span class=\"green\">the Empress</span>\n",
      "<span class=\"green\">The prince</span>\n",
      "<span class=\"green\">Anatole</span>\n",
      "<span class=\"green\">the prince</span>\n",
      "<span class=\"green\">The prince</span>\n",
      "<span class=\"green\">Anna\n",
      "Pavlovna</span>\n",
      "<span class=\"green\">Anna Pavlovna</span>\n"
     ]
    }
   ],
   "source": [
    "html = urlopen('https://www.pythonscraping.com/pages/warandpeace.html')\n",
    "bs = BeautifulSoup(html.read(), 'html.parser')\n",
    "results = bs.find_all(\"span\",{'class':'green'})\n",
    "for result in results:\n",
    "    print(result)"
   ],
   "metadata": {
    "collapsed": false
   }
  },
  {
   "cell_type": "code",
   "execution_count": 9,
   "outputs": [
    {
     "data": {
      "text/plain": "'Anna\\nPavlovna Scherer'"
     },
     "execution_count": 9,
     "metadata": {},
     "output_type": "execute_result"
    }
   ],
   "source": [
    "results[0].get_text()"
   ],
   "metadata": {
    "collapsed": false
   }
  },
  {
   "cell_type": "code",
   "execution_count": 10,
   "outputs": [
    {
     "name": "stdout",
     "output_type": "stream",
     "text": [
      "<h1>War and Peace</h1>\n",
      "<h2>Chapter 1</h2>\n"
     ]
    }
   ],
   "source": [
    "html = urlopen('https://www.pythonscraping.com/pages/warandpeace.html')\n",
    "bs = BeautifulSoup(html.read(), 'html.parser')\n",
    "results = bs.find_all([\"h1\",\"h2\",\"h3\"])\n",
    "for result in results:\n",
    "    print(result)"
   ],
   "metadata": {
    "collapsed": false
   }
  },
  {
   "cell_type": "code",
   "execution_count": 11,
   "outputs": [
    {
     "name": "stdout",
     "output_type": "stream",
     "text": [
      "<span class=\"red\">Well, Prince, so Genoa and Lucca are now just family estates of the\n",
      "Buonapartes. But I warn you, if you don't tell me that this means war,\n",
      "if you still try to defend the infamies and horrors perpetrated by\n",
      "that Antichrist- I really believe he is Antichrist- I will have\n",
      "nothing more to do with you and you are no longer my friend, no longer\n",
      "my 'faithful slave,' as you call yourself! But how do you do? I see\n",
      "I have frightened you- sit down and tell me all the news.</span>\n",
      "<span class=\"green\">Anna\n",
      "Pavlovna Scherer</span>\n",
      "<span class=\"green\">Empress Marya\n",
      "Fedorovna</span>\n",
      "<span class=\"green\">Prince Vasili Kuragin</span>\n",
      "<span class=\"green\">Anna Pavlovna</span>\n",
      "<span class=\"green\">St. Petersburg</span>\n",
      "<span class=\"red\">If you have nothing better to do, Count [or Prince], and if the\n",
      "prospect of spending an evening with a poor invalid is not too\n",
      "terrible, I shall be very charmed to see you tonight between 7 and 10-\n",
      "Annette Scherer.</span>\n",
      "<span class=\"red\">Heavens! what a virulent attack!</span>\n",
      "<span class=\"green\">the prince</span>\n",
      "<span class=\"green\">Anna Pavlovna</span>\n",
      "<span class=\"red\">First of all, dear friend, tell me how you are. Set your friend's\n",
      "mind at rest,</span>\n",
      "<span class=\"red\">Can one be well while suffering morally? Can one be calm in times\n",
      "like these if one has any feeling?</span>\n",
      "<span class=\"green\">Anna Pavlovna</span>\n",
      "<span class=\"red\">You are\n",
      "staying the whole evening, I hope?</span>\n",
      "<span class=\"red\">And the fete at the English ambassador's? Today is Wednesday. I\n",
      "must put in an appearance there,</span>\n",
      "<span class=\"green\">the prince</span>\n",
      "<span class=\"red\">My daughter is\n",
      "coming for me to take me there.</span>\n",
      "<span class=\"red\">I thought today's fete had been canceled. I confess all these\n",
      "festivities and fireworks are becoming wearisome.</span>\n",
      "<span class=\"red\">If they had known that you wished it, the entertainment would\n",
      "have been put off,</span>\n",
      "<span class=\"green\">the prince</span>\n",
      "<span class=\"red\">Don't tease! Well, and what has been decided about Novosiltsev's\n",
      "dispatch? You know everything.</span>\n",
      "<span class=\"red\">What can one say about it?</span>\n",
      "<span class=\"green\">the prince</span>\n",
      "<span class=\"red\">What has been decided? They have decided that\n",
      "Buonaparte has burnt his boats, and I believe that we are ready to\n",
      "burn ours.</span>\n",
      "<span class=\"green\">Prince Vasili</span>\n",
      "<span class=\"green\">Anna Pavlovna</span>\n",
      "<span class=\"green\">Anna Pavlovna</span>\n",
      "<span class=\"red\">Oh, don't speak to me of Austria. Perhaps I don't understand\n",
      "things, but Austria never has wished, and does not wish, for war.\n",
      "She is betraying us! Russia alone must save Europe. Our gracious\n",
      "sovereign recognizes his high vocation and will be true to it. That is\n",
      "the one thing I have faith in! Our good and wonderful sovereign has to\n",
      "perform the noblest role on earth, and he is so virtuous and noble\n",
      "that God will not forsake him. He will fulfill his vocation and\n",
      "crush the hydra of revolution, which has become more terrible than\n",
      "ever in the person of this murderer and villain! We alone must\n",
      "avenge the blood of the just one.... Whom, I ask you, can we rely\n",
      "on?... England with her commercial spirit will not and cannot\n",
      "understand the Emperor Alexander's loftiness of soul. She has\n",
      "refused to evacuate Malta. She wanted to find, and still seeks, some\n",
      "secret motive in our actions. What answer did Novosiltsev get? None.\n",
      "The English have not understood and cannot understand the\n",
      "self-abnegation of our Emperor who wants nothing for himself, but only\n",
      "desires the good of mankind. And what have they promised? Nothing! And\n",
      "what little they have promised they will not perform! Prussia has\n",
      "always declared that Buonaparte is invincible, and that all Europe\n",
      "is powerless before him.... And I don't believe a word that Hardenburg\n",
      "says, or Haugwitz either. This famous Prussian neutrality is just a\n",
      "trap. I have faith only in God and the lofty destiny of our adored\n",
      "monarch. He will save Europe!</span>\n",
      "<span class=\"red\">I think,</span>\n",
      "<span class=\"green\">the prince</span>\n",
      "<span class=\"red\">that if you had been\n",
      "sent instead of our dear <span class=\"green\">Wintzingerode</span> you would have captured the\n",
      "<span class=\"green\">King of Prussia</span>'s consent by assault. You are so eloquent. Will you\n",
      "give me a cup of tea?</span>\n",
      "<span class=\"green\">Wintzingerode</span>\n",
      "<span class=\"green\">King of Prussia</span>\n",
      "<span class=\"red\">In a moment. A propos,</span>\n",
      "<span class=\"red\">I am\n",
      "expecting two very interesting men tonight, <span class=\"green\">le Vicomte de Mortemart</span>,\n",
      "who is connected with the <span class=\"green\">Montmorencys</span> through the <span class=\"green\">Rohans</span>, one of\n",
      "the best French families. He is one of the genuine emigres, the good\n",
      "ones. And also the <span class=\"green\">Abbe Morio</span>. Do you know that profound thinker? He\n",
      "has been received by <span class=\"green\">the Emperor</span>. Had you heard?</span>\n",
      "<span class=\"green\">le Vicomte de Mortemart</span>\n",
      "<span class=\"green\">Montmorencys</span>\n",
      "<span class=\"green\">Rohans</span>\n",
      "<span class=\"green\">Abbe Morio</span>\n",
      "<span class=\"green\">the Emperor</span>\n",
      "<span class=\"red\">I shall be delighted to meet them,</span>\n",
      "<span class=\"green\">the prince</span>\n",
      "<span class=\"red\">But tell me,</span>\n",
      "<span class=\"red\">is it true that the Dowager Empress wants Baron Funke\n",
      "to be appointed first secretary at Vienna? The baron by all accounts\n",
      "is a poor creature.</span>\n",
      "<span class=\"green\">Prince Vasili</span>\n",
      "<span class=\"green\">Dowager Empress Marya Fedorovna</span>\n",
      "<span class=\"green\">the baron</span>\n",
      "<span class=\"green\">Anna Pavlovna</span>\n",
      "<span class=\"green\">the Empress</span>\n",
      "<span class=\"red\">Baron Funke has been recommended to the Dowager Empress by her\n",
      "sister,</span>\n",
      "<span class=\"green\">the Empress</span>\n",
      "<span class=\"green\">Anna Pavlovna's</span>\n",
      "<span class=\"green\">Her Majesty</span>\n",
      "<span class=\"green\">Baron\n",
      "Funke</span>\n",
      "<span class=\"green\">The prince</span>\n",
      "<span class=\"green\">Anna\n",
      "Pavlovna</span>\n",
      "<span class=\"green\">the Empress</span>\n",
      "<span class=\"red\">Now about your family. Do you know that since your daughter came\n",
      "out everyone has been enraptured by her? They say she is amazingly\n",
      "beautiful.</span>\n",
      "<span class=\"green\">The prince</span>\n",
      "<span class=\"red\">I often think,</span>\n",
      "<span class=\"red\">I often think how unfairly sometimes the\n",
      "joys of life are distributed. Why has fate given you two such splendid\n",
      "children? I don't speak of <span class=\"green\">Anatole</span>, your youngest. I don't like\n",
      "him,</span>\n",
      "<span class=\"green\">Anatole</span>\n",
      "<span class=\"red\">Two such charming children. And really you appreciate\n",
      "them less than anyone, and so you don't deserve to have them.</span>\n",
      "<span class=\"red\">I can't help it,</span>\n",
      "<span class=\"green\">the prince</span>\n",
      "<span class=\"red\">Lavater would have said I\n",
      "lack the bump of paternity.</span>\n",
      "<span class=\"red\">Don't joke; I mean to have a serious talk with you. Do you know I\n",
      "am dissatisfied with your younger son? Between ourselves</span>\n",
      "<span class=\"red\">he was mentioned at Her\n",
      "Majesty's and you were pitied....</span>\n",
      "<span class=\"green\">The prince</span>\n",
      "<span class=\"red\">What would you have me do?</span>\n",
      "<span class=\"red\">You know I did all\n",
      "a father could for their education, and they have both turned out\n",
      "fools. Hippolyte is at least a quiet fool, but Anatole is an active\n",
      "one. That is the only difference between them.</span>\n",
      "<span class=\"red\">And why are children born to such men as you? If you were not a\n",
      "father there would be nothing I could reproach you with,</span>\n",
      "<span class=\"green\">Anna\n",
      "Pavlovna</span>\n",
      "<span class=\"red\">I am your faithful slave and to you alone I can confess that my\n",
      "children are the bane of my life. It is the cross I have to bear. That\n",
      "is how I explain it to myself. It can't be helped!</span>\n",
      "<span class=\"green\">Anna Pavlovna</span>\n"
     ]
    }
   ],
   "source": [
    "html = urlopen('https://www.pythonscraping.com/pages/warandpeace.html')\n",
    "bs = BeautifulSoup(html.read(), 'html.parser')\n",
    "results = bs.find_all(\"span\",{\"class\":{\"green\",\"red\"}})\n",
    "for result in results:\n",
    "    print(result)"
   ],
   "metadata": {
    "collapsed": false
   }
  },
  {
   "cell_type": "code",
   "execution_count": 54,
   "outputs": [
    {
     "name": "stdout",
     "output_type": "stream",
     "text": [
      "<div class=\"Main 2\">\n",
      "<div class=\"Secondary 2\">\n",
      "            Bölüm 2\n",
      "        </div>\n",
      "</div>\n",
      "***\n",
      "<div class=\"Secondary 1\">\n",
      "            Bölüm 1\n",
      "        </div>\n"
     ]
    },
    {
     "data": {
      "text/plain": "'\\ncount = 0\\nfor result in results:\\n    count +=1\\n    print(result)\\n\\nprint(count)\\n'"
     },
     "execution_count": 54,
     "metadata": {},
     "output_type": "execute_result"
    }
   ],
   "source": [
    "html = urlopen('https://raw.githubusercontent.com/yasinerduran/WebMining/main/recursive.html')\n",
    "bs = BeautifulSoup(html.read(), 'html.parser')\n",
    "results_false = bs.body.find_all(\"div\",recursive=False)\n",
    "\n",
    "results_true = bs.body.find_all(\"div\",recursive=True)\n",
    "\n",
    "print(results_false[1])\n",
    "print(\"***\")\n",
    "print(results_true[1])\n",
    "\n",
    "\n",
    "\"\"\"\n",
    "count = 0\n",
    "for result in results:\n",
    "    count +=1\n",
    "    print(result)\n",
    "\n",
    "print(count)\n",
    "\"\"\"\n"
   ],
   "metadata": {
    "collapsed": false
   }
  },
  {
   "cell_type": "code",
   "execution_count": 35,
   "outputs": [
    {
     "name": "stdout",
     "output_type": "stream",
     "text": [
      "the prince\n",
      "the prince\n",
      "the prince\n",
      "the prince\n",
      "the prince\n",
      "the prince\n",
      "the prince\n",
      "7\n"
     ]
    },
    {
     "name": "stderr",
     "output_type": "stream",
     "text": [
      "/var/folders/n8/bntzt8mx5kscxpw8t8rxz_580000gn/T/ipykernel_2425/2869035193.py:3: DeprecationWarning: The 'text' argument to find()-type methods is deprecated. Use 'string' instead.\n",
      "  results = bs.body.find_all(text=\"the prince\")\n"
     ]
    }
   ],
   "source": [
    "html = urlopen('https://www.pythonscraping.com/pages/warandpeace.html')\n",
    "bs = BeautifulSoup(html.read(), 'html.parser')\n",
    "results = bs.body.find_all(text=\"the prince\")\n",
    "count = 0\n",
    "for result in results:\n",
    "    count +=1\n",
    "    print(result)\n",
    "\n",
    "print(count)"
   ],
   "metadata": {
    "collapsed": false
   }
  },
  {
   "cell_type": "code",
   "execution_count": 36,
   "outputs": [
    {
     "name": "stdout",
     "output_type": "stream",
     "text": [
      "the prince\n",
      "1\n"
     ]
    },
    {
     "name": "stderr",
     "output_type": "stream",
     "text": [
      "/var/folders/n8/bntzt8mx5kscxpw8t8rxz_580000gn/T/ipykernel_2425/2954723631.py:3: DeprecationWarning: The 'text' argument to find()-type methods is deprecated. Use 'string' instead.\n",
      "  results = bs.body.find_all(text=\"the prince\",limit=1)\n"
     ]
    }
   ],
   "source": [
    "html = urlopen('https://www.pythonscraping.com/pages/warandpeace.html')\n",
    "bs = BeautifulSoup(html.read(), 'html.parser')\n",
    "results = bs.body.find_all(text=\"the prince\",limit=1)\n",
    "count = 0\n",
    "for result in results:\n",
    "    count +=1\n",
    "    print(result)\n",
    "\n",
    "print(count)"
   ],
   "metadata": {
    "collapsed": false
   }
  },
  {
   "cell_type": "code",
   "execution_count": 55,
   "outputs": [
    {
     "name": "stdout",
     "output_type": "stream",
     "text": [
      "\n",
      "\n",
      "<div class=\"Secondary 1\">\n",
      "<h1>Bölüm 1</h1>\n",
      "<div class=\"Secondary 12\">\n",
      "<h2>Bölüm 1.2</h2>\n",
      "</div>\n",
      "</div>\n",
      "\n",
      "\n",
      "3\n"
     ]
    }
   ],
   "source": [
    "html = urlopen('https://raw.githubusercontent.com/yasinerduran/WebMining/main/child.html')\n",
    "bs = BeautifulSoup(html.read(), 'html.parser')\n",
    "results = bs.body.find_all(\"div\")[0].children\n",
    "count = 0\n",
    "for result in results:\n",
    "    count +=1\n",
    "    print(result)\n",
    "\n",
    "print(count)"
   ],
   "metadata": {
    "collapsed": false
   }
  },
  {
   "cell_type": "code",
   "execution_count": null,
   "outputs": [],
   "source": [],
   "metadata": {
    "collapsed": false
   }
  }
 ],
 "metadata": {
  "kernelspec": {
   "display_name": "Python 3",
   "language": "python",
   "name": "python3"
  },
  "language_info": {
   "codemirror_mode": {
    "name": "ipython",
    "version": 2
   },
   "file_extension": ".py",
   "mimetype": "text/x-python",
   "name": "python",
   "nbconvert_exporter": "python",
   "pygments_lexer": "ipython2",
   "version": "2.7.6"
  }
 },
 "nbformat": 4,
 "nbformat_minor": 0
}
